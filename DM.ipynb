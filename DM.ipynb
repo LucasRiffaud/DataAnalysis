{
 "cells": [
  {
   "cell_type": "code",
   "execution_count": null,
   "metadata": {},
   "outputs": [],
   "source": [
    "%matplotlib inline\n",
    "import numpy as np\n",
    "import pandas as pd\n",
    "import random as rd\n",
    "from numpy.linalg import eig\n",
    "import matplotlib.pyplot as plt"
   ]
  },
  {
   "cell_type": "markdown",
   "metadata": {},
   "source": [
    "Le jeu de données suivant représente classifie des Iris en fonction de certaines dimensions.  \n",
    "Le but est d'effectuer une étude de ces données afin de prédire en fonction de nouvelles mesures l'espèce d'une nouvelle Iris.\n",
    "* Extraire les colonnes correspondant aux mesures.\n",
    "* Effectuer une ACP de ces données pour détecter et éliminer d'éventuelles valeurs abérrantes.\n",
    "* Une fois les données abérrantes éliminées, effectuer une nouvelle ACP. \n",
    "* Effectuer une CAH pour afficher le dendogramme.\n",
    "* comparer avec une méthode K-means."
   ]
  },
  {
   "cell_type": "code",
   "execution_count": null,
   "metadata": {},
   "outputs": [],
   "source": [
    "df = pd.read_csv('../data/Iris2etaberante.csv')"
   ]
  },
  {
   "cell_type": "code",
   "execution_count": null,
   "metadata": {},
   "outputs": [],
   "source": [
    "pd.DataFrame(df)"
   ]
  },
  {
   "cell_type": "code",
   "execution_count": null,
   "metadata": {},
   "outputs": [],
   "source": [
    "df.dtypes"
   ]
  },
  {
   "cell_type": "code",
   "execution_count": null,
   "metadata": {},
   "outputs": [],
   "source": [
    "df.columns"
   ]
  },
  {
   "cell_type": "code",
   "execution_count": null,
   "metadata": {},
   "outputs": [],
   "source": [
    "Species_No = [int(x) for x in df.iloc[:,0]]"
   ]
  },
  {
   "cell_type": "code",
   "execution_count": null,
   "metadata": {},
   "outputs": [],
   "source": [
    "df.head(1)"
   ]
  },
  {
   "cell_type": "code",
   "execution_count": null,
   "metadata": {},
   "outputs": [],
   "source": [
    "Petal_width = [x for x in df.iloc[:,1]]\n",
    "Petal_length = [x for x in df.iloc[:,2]]\n",
    "Sepal_width = [x for x in df.iloc[:,3]]\n",
    "Sepal_length = [x for x in df.iloc[:,4]]\n",
    "Species_name = [x for x in df.iloc[:,5]]"
   ]
  },
  {
   "cell_type": "code",
   "execution_count": null,
   "metadata": {},
   "outputs": [],
   "source": [
    "df2 = pd.DataFrame({\n",
    "    'Species_No':[x for x in Species_No],\n",
    "    'Petal_width':[x for x in Petal_width],\n",
    "    'Petal_length':[x for x in Petal_length],\n",
    "    'Sepal_width':[x for x in Sepal_width],\n",
    "    'Sepal_length':[x for x in Sepal_length],\n",
    "})"
   ]
  },
  {
   "cell_type": "code",
   "execution_count": null,
   "metadata": {},
   "outputs": [],
   "source": [
    "df2"
   ]
  },
  {
   "cell_type": "code",
   "execution_count": null,
   "metadata": {},
   "outputs": [],
   "source": [
    "mat1 = df2.values\n",
    "means = [np.mean(vec) for vec in mat1.T]\n",
    "stds = [np.std(vec) for vec in mat1.T]\n",
    "mat1_c = np.array([(mat1.T[i]-means[i])/stds[i] for i in range(5)]).T\n",
    "dfc = pd.DataFrame(data = mat1_c, index = df2.index, columns=df2.columns )\n",
    "dfc"
   ]
  },
  {
   "cell_type": "code",
   "execution_count": null,
   "metadata": {},
   "outputs": [],
   "source": []
  },
  {
   "cell_type": "code",
   "execution_count": null,
   "metadata": {
    "scrolled": true
   },
   "outputs": [],
   "source": [
    "mat1_corr = 1/len(mat1_c)*np.dot(mat1_c.T,mat1_c)\n",
    "D,V = eig(mat1_corr)\n",
    "D"
   ]
  },
  {
   "cell_type": "code",
   "execution_count": null,
   "metadata": {},
   "outputs": [],
   "source": [
    "s=sum(x for x in D)"
   ]
  },
  {
   "cell_type": "code",
   "execution_count": null,
   "metadata": {},
   "outputs": [],
   "source": [
    "#Conservation des deux premières valeurs propres"
   ]
  },
  {
   "cell_type": "code",
   "execution_count": null,
   "metadata": {
    "scrolled": true
   },
   "outputs": [],
   "source": [
    "V.T"
   ]
  },
  {
   "cell_type": "code",
   "execution_count": null,
   "metadata": {},
   "outputs": [],
   "source": []
  }
 ],
 "metadata": {
  "kernelspec": {
   "display_name": "Python 3",
   "language": "python",
   "name": "python3"
  },
  "language_info": {
   "codemirror_mode": {
    "name": "ipython",
    "version": 3
   },
   "file_extension": ".py",
   "mimetype": "text/x-python",
   "name": "python",
   "nbconvert_exporter": "python",
   "pygments_lexer": "ipython3",
   "version": "3.7.3"
  }
 },
 "nbformat": 4,
 "nbformat_minor": 2
}
